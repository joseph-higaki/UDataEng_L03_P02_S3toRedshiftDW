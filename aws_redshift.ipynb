{
 "cells": [
  {
   "cell_type": "markdown",
   "metadata": {},
   "source": [
    "# Redshift Cluster & Database Operations   "
   ]
  },
  {
   "cell_type": "code",
   "execution_count": 3,
   "metadata": {},
   "outputs": [],
   "source": [
    "import boto3\n",
    "import configparser\n",
    "import matplotlib.pyplot as plt\n",
    "import pandas as pd\n",
    "from time import time\n",
    "import json"
   ]
  },
  {
   "cell_type": "code",
   "execution_count": 4,
   "metadata": {},
   "outputs": [],
   "source": [
    "config = configparser.ConfigParser()\n",
    "config.read_file(open('aws.cfg'))\n",
    "\n",
    "KEY                    = config.get('AWS','KEY')\n",
    "SECRET                 = config.get('AWS','SECRET')\n",
    "CLUSTER_REGION        = config.get('AWS','CLUSTER_REGION')\n",
    "\n",
    "\n",
    "ec2 = boto3.resource('ec2',\n",
    "                       region_name=CLUSTER_REGION,\n",
    "                       aws_access_key_id=KEY,\n",
    "                       aws_secret_access_key=SECRET)\n",
    "\n",
    "redshift = boto3.client('redshift',\n",
    "                       region_name=CLUSTER_REGION,\n",
    "                       aws_access_key_id=KEY,\n",
    "                       aws_secret_access_key=SECRET\n",
    "                       )\n",
    "\n",
    "iam = boto3.client('iam',aws_access_key_id=KEY,\n",
    "                     aws_secret_access_key=SECRET)\n",
    "\n",
    "## Just a pretty print\n",
    "def prettyRedshiftProps(props):\n",
    "    pd.set_option('display.max_colwidth', -1)\n",
    "    keysToShow = [\"ClusterIdentifier\", \"NodeType\", \"ClusterStatus\", \"MasterUsername\", \"DBName\", \"Endpoint\", \"NumberOfNodes\", 'VpcId']\n",
    "    x = [(k, v) for k,v in props.items() if k in keysToShow]\n",
    "    return pd.DataFrame(data=x, columns=[\"Key\", \"Value\"])"
   ]
  },
  {
   "cell_type": "code",
   "execution_count": 5,
   "metadata": {},
   "outputs": [
    {
     "ename": "NoSectionError",
     "evalue": "No section: 'DWH'",
     "output_type": "error",
     "traceback": [
      "\u001b[1;31m---------------------------------------------------------------------------\u001b[0m",
      "\u001b[1;31mNoSectionError\u001b[0m                            Traceback (most recent call last)",
      "\u001b[1;32mc:\\Users\\josep\\OneDrive\\Documentos\\projects\\UdacityDeng\\UDataEng_L03_P02_S3toRedshiftDW\\aws_redshift.ipynb Cell 4'\u001b[0m in \u001b[0;36m<cell line: 4>\u001b[1;34m()\u001b[0m\n\u001b[0;32m      <a href='vscode-notebook-cell:/c%3A/Users/josep/OneDrive/Documentos/projects/UdacityDeng/UDataEng_L03_P02_S3toRedshiftDW/aws_redshift.ipynb#ch0000012?line=0'>1</a>\u001b[0m config \u001b[39m=\u001b[39m configparser\u001b[39m.\u001b[39mConfigParser()\n\u001b[0;32m      <a href='vscode-notebook-cell:/c%3A/Users/josep/OneDrive/Documentos/projects/UdacityDeng/UDataEng_L03_P02_S3toRedshiftDW/aws_redshift.ipynb#ch0000012?line=1'>2</a>\u001b[0m config\u001b[39m.\u001b[39mread_file(\u001b[39mopen\u001b[39m(\u001b[39m'\u001b[39m\u001b[39mdwh.cfg\u001b[39m\u001b[39m'\u001b[39m))\n\u001b[1;32m----> <a href='vscode-notebook-cell:/c%3A/Users/josep/OneDrive/Documentos/projects/UdacityDeng/UDataEng_L03_P02_S3toRedshiftDW/aws_redshift.ipynb#ch0000012?line=3'>4</a>\u001b[0m DWH_CLUSTER_TYPE       \u001b[39m=\u001b[39m config\u001b[39m.\u001b[39;49mget(\u001b[39m\"\u001b[39;49m\u001b[39mDWH\u001b[39;49m\u001b[39m\"\u001b[39;49m,\u001b[39m\"\u001b[39;49m\u001b[39mDWH_CLUSTER_TYPE\u001b[39;49m\u001b[39m\"\u001b[39;49m)\n\u001b[0;32m      <a href='vscode-notebook-cell:/c%3A/Users/josep/OneDrive/Documentos/projects/UdacityDeng/UDataEng_L03_P02_S3toRedshiftDW/aws_redshift.ipynb#ch0000012?line=4'>5</a>\u001b[0m DWH_NUM_NODES          \u001b[39m=\u001b[39m config\u001b[39m.\u001b[39mget(\u001b[39m\"\u001b[39m\u001b[39mDWH\u001b[39m\u001b[39m\"\u001b[39m,\u001b[39m\"\u001b[39m\u001b[39mDWH_NUM_NODES\u001b[39m\u001b[39m\"\u001b[39m)\n\u001b[0;32m      <a href='vscode-notebook-cell:/c%3A/Users/josep/OneDrive/Documentos/projects/UdacityDeng/UDataEng_L03_P02_S3toRedshiftDW/aws_redshift.ipynb#ch0000012?line=5'>6</a>\u001b[0m DWH_NODE_TYPE          \u001b[39m=\u001b[39m config\u001b[39m.\u001b[39mget(\u001b[39m\"\u001b[39m\u001b[39mDWH\u001b[39m\u001b[39m\"\u001b[39m,\u001b[39m\"\u001b[39m\u001b[39mDWH_NODE_TYPE\u001b[39m\u001b[39m\"\u001b[39m)\n",
      "File \u001b[1;32m~\\OneDrive\\Documentos\\projects\\UdacityDeng\\UDataEng_L03_P02_S3toRedshiftDW\\S3toRedshiftDW-env\\lib\\configparser.py:782\u001b[0m, in \u001b[0;36mRawConfigParser.get\u001b[1;34m(self, section, option, raw, vars, fallback)\u001b[0m\n\u001b[0;32m    <a href='file:///c%3A/Users/josep/OneDrive/Documentos/projects/UdacityDeng/UDataEng_L03_P02_S3toRedshiftDW/S3toRedshiftDW-env/lib/configparser.py?line=766'>767</a>\u001b[0m \u001b[39m\"\"\"Get an option value for a given section.\u001b[39;00m\n\u001b[0;32m    <a href='file:///c%3A/Users/josep/OneDrive/Documentos/projects/UdacityDeng/UDataEng_L03_P02_S3toRedshiftDW/S3toRedshiftDW-env/lib/configparser.py?line=767'>768</a>\u001b[0m \n\u001b[0;32m    <a href='file:///c%3A/Users/josep/OneDrive/Documentos/projects/UdacityDeng/UDataEng_L03_P02_S3toRedshiftDW/S3toRedshiftDW-env/lib/configparser.py?line=768'>769</a>\u001b[0m \u001b[39mIf `vars' is provided, it must be a dictionary. The option is looked up\u001b[39;00m\n\u001b[1;32m   (...)\u001b[0m\n\u001b[0;32m    <a href='file:///c%3A/Users/josep/OneDrive/Documentos/projects/UdacityDeng/UDataEng_L03_P02_S3toRedshiftDW/S3toRedshiftDW-env/lib/configparser.py?line=778'>779</a>\u001b[0m \u001b[39mThe section DEFAULT is special.\u001b[39;00m\n\u001b[0;32m    <a href='file:///c%3A/Users/josep/OneDrive/Documentos/projects/UdacityDeng/UDataEng_L03_P02_S3toRedshiftDW/S3toRedshiftDW-env/lib/configparser.py?line=779'>780</a>\u001b[0m \u001b[39m\"\"\"\u001b[39;00m\n\u001b[0;32m    <a href='file:///c%3A/Users/josep/OneDrive/Documentos/projects/UdacityDeng/UDataEng_L03_P02_S3toRedshiftDW/S3toRedshiftDW-env/lib/configparser.py?line=780'>781</a>\u001b[0m \u001b[39mtry\u001b[39;00m:\n\u001b[1;32m--> <a href='file:///c%3A/Users/josep/OneDrive/Documentos/projects/UdacityDeng/UDataEng_L03_P02_S3toRedshiftDW/S3toRedshiftDW-env/lib/configparser.py?line=781'>782</a>\u001b[0m     d \u001b[39m=\u001b[39m \u001b[39mself\u001b[39;49m\u001b[39m.\u001b[39;49m_unify_values(section, \u001b[39mvars\u001b[39;49m)\n\u001b[0;32m    <a href='file:///c%3A/Users/josep/OneDrive/Documentos/projects/UdacityDeng/UDataEng_L03_P02_S3toRedshiftDW/S3toRedshiftDW-env/lib/configparser.py?line=782'>783</a>\u001b[0m \u001b[39mexcept\u001b[39;00m NoSectionError:\n\u001b[0;32m    <a href='file:///c%3A/Users/josep/OneDrive/Documentos/projects/UdacityDeng/UDataEng_L03_P02_S3toRedshiftDW/S3toRedshiftDW-env/lib/configparser.py?line=783'>784</a>\u001b[0m     \u001b[39mif\u001b[39;00m fallback \u001b[39mis\u001b[39;00m _UNSET:\n",
      "File \u001b[1;32m~\\OneDrive\\Documentos\\projects\\UdacityDeng\\UDataEng_L03_P02_S3toRedshiftDW\\S3toRedshiftDW-env\\lib\\configparser.py:1153\u001b[0m, in \u001b[0;36mRawConfigParser._unify_values\u001b[1;34m(self, section, vars)\u001b[0m\n\u001b[0;32m   <a href='file:///c%3A/Users/josep/OneDrive/Documentos/projects/UdacityDeng/UDataEng_L03_P02_S3toRedshiftDW/S3toRedshiftDW-env/lib/configparser.py?line=1150'>1151</a>\u001b[0m \u001b[39mexcept\u001b[39;00m \u001b[39mKeyError\u001b[39;00m:\n\u001b[0;32m   <a href='file:///c%3A/Users/josep/OneDrive/Documentos/projects/UdacityDeng/UDataEng_L03_P02_S3toRedshiftDW/S3toRedshiftDW-env/lib/configparser.py?line=1151'>1152</a>\u001b[0m     \u001b[39mif\u001b[39;00m section \u001b[39m!=\u001b[39m \u001b[39mself\u001b[39m\u001b[39m.\u001b[39mdefault_section:\n\u001b[1;32m-> <a href='file:///c%3A/Users/josep/OneDrive/Documentos/projects/UdacityDeng/UDataEng_L03_P02_S3toRedshiftDW/S3toRedshiftDW-env/lib/configparser.py?line=1152'>1153</a>\u001b[0m         \u001b[39mraise\u001b[39;00m NoSectionError(section) \u001b[39mfrom\u001b[39;00m \u001b[39mNone\u001b[39m\n\u001b[0;32m   <a href='file:///c%3A/Users/josep/OneDrive/Documentos/projects/UdacityDeng/UDataEng_L03_P02_S3toRedshiftDW/S3toRedshiftDW-env/lib/configparser.py?line=1153'>1154</a>\u001b[0m \u001b[39m# Update with the entry specific variables\u001b[39;00m\n\u001b[0;32m   <a href='file:///c%3A/Users/josep/OneDrive/Documentos/projects/UdacityDeng/UDataEng_L03_P02_S3toRedshiftDW/S3toRedshiftDW-env/lib/configparser.py?line=1154'>1155</a>\u001b[0m vardict \u001b[39m=\u001b[39m {}\n",
      "\u001b[1;31mNoSectionError\u001b[0m: No section: 'DWH'"
     ]
    }
   ],
   "source": [
    "config = configparser.ConfigParser()\n",
    "config.read_file(open('dwh.cfg'))\n",
    "\n",
    "DWH_CLUSTER_TYPE       = config.get(\"CLUSTER\",\"CLUSTER_TYPE\")\n",
    "DWH_NUM_NODES          = config.get(\"CLUSTER\",\"NUM_NODES\")\n",
    "DWH_NODE_TYPE          = config.get(\"CLUSTER\",\"NODE_TYPE\")\n",
    "DWH_CLUSTER_IDENTIFIER = config.get(\"CLUSTER\",\"CLUSTER_IDENTIFIER\")\n",
    "DWH_IAM_ROLE_NAME      = config.get(\"CLUSTER\", \"IAM_ROLE_NAME\")\n",
    "\n",
    "DWH_DB                 = config.get(\"CLUSTER\",\"DB_NAME\")\n",
    "DWH_DB_USER            = config.get(\"CLUSTER\",\"DB_USER\")\n",
    "DWH_DB_PASSWORD        = config.get(\"CLUSTER\",\"DB_PASSWORD\")\n",
    "DWH_PORT               = config.get(\"CLUSTER\",\"DB_PORT\")\n"
   ]
  },
  {
   "cell_type": "markdown",
   "metadata": {},
   "source": [
    "## Create IAM Role"
   ]
  },
  {
   "cell_type": "code",
   "execution_count": null,
   "metadata": {},
   "outputs": [],
   "source": [
    "try:\n",
    "    print('1.1 Creating a new IAM Role')\n",
    "    \n",
    "    dwhRole = iam.create_role(\n",
    "        Path='/',\n",
    "        RoleName=DWH_IAM_ROLE_NAME,\n",
    "        Description = \"Allows Redshift clusters to call AWS services on your behalf.\",\n",
    "        AssumeRolePolicyDocument=json.dumps(\n",
    "            {'Statement': [{'Action': 'sts:AssumeRole',\n",
    "               'Effect': 'Allow',\n",
    "               'Principal': {'Service': 'redshift.amazonaws.com'}}],\n",
    "             'Version': '2012-10-17'}))\n",
    "\n",
    "except Exception as e:\n",
    "    print(e)\n",
    "\n",
    "# TODO: Attach Policy\n",
    "print(\"1.2 Attaching Policy\")\n",
    "\n",
    "iam.attach_role_policy(RoleName=DWH_IAM_ROLE_NAME,\n",
    "                       PolicyArn=\"arn:aws:iam::aws:policy/AmazonS3ReadOnlyAccess\"\n",
    "                      )['ResponseMetadata']['HTTPStatusCode']"
   ]
  },
  {
   "cell_type": "markdown",
   "metadata": {},
   "source": [
    "## Create Redshift Cluster"
   ]
  },
  {
   "cell_type": "code",
   "execution_count": null,
   "metadata": {},
   "outputs": [],
   "source": [
    "# TODO: Get and print the IAM role ARN\n",
    "print(\"1.3 Get the IAM role ARN\")\n",
    "roleArn = iam.get_role(RoleName=DWH_IAM_ROLE_NAME)['Role']['Arn']\n",
    "\n",
    "print(roleArn)\n",
    "\n",
    "try:\n",
    "    response = redshift.create_cluster(        \n",
    "        # TODO: add parameters for hardware\n",
    "        ClusterType=DWH_CLUSTER_TYPE,\n",
    "        NodeType=DWH_NODE_TYPE,\n",
    "        NumberOfNodes=int(DWH_NUM_NODES),\n",
    "\n",
    "        # TODO: add parameters for identifiers & credentials\n",
    "        DBName=DWH_DB,\n",
    "        ClusterIdentifier=DWH_CLUSTER_IDENTIFIER,\n",
    "        MasterUsername=DWH_DB_USER,\n",
    "        MasterUserPassword=DWH_DB_PASSWORD,\n",
    "        \n",
    "        # TODO: add parameter for role (to allow s3 access)\n",
    "        IamRoles=[roleArn]  \n",
    "    )\n",
    "except Exception as e:\n",
    "    print(e)"
   ]
  },
  {
   "cell_type": "markdown",
   "metadata": {},
   "source": [
    "## Open incoming TCP port from the VPC to access the cluster endpoint"
   ]
  },
  {
   "cell_type": "code",
   "execution_count": null,
   "metadata": {},
   "outputs": [],
   "source": [
    "try:\n",
    "    vpc = ec2.Vpc(id=myClusterProps['VpcId'])\n",
    "    defaultSg = list(vpc.security_groups.all())[0]\n",
    "    \n",
    "    print(defaultSg)\n",
    "    \n",
    "    defaultSg.authorize_ingress(\n",
    "        GroupName= defaultSg.group_name,  # TODO: fill out\n",
    "        CidrIp= '0.0.0.0/0',  # TODO: fill out\n",
    "        IpProtocol= 'TCP',  # TODO: fill out\n",
    "        FromPort=int(DWH_PORT),\n",
    "        ToPort=int(DWH_PORT)\n",
    "    )\n",
    "except Exception as e:\n",
    "    print(e)"
   ]
  },
  {
   "cell_type": "markdown",
   "metadata": {},
   "source": [
    "## Get Redshift Cluster Endpoint"
   ]
  },
  {
   "cell_type": "code",
   "execution_count": null,
   "metadata": {},
   "outputs": [],
   "source": [
    "# FILL IN THE REDSHIFT ENPOINT HERE\n",
    "# e.g. DWH_ENDPOINT=\"redshift-cluster-1.csmamz5zxmle.us-west-2.redshift.amazonaws.com\" \n",
    "DWH_ENDPOINT = myClusterProps['Endpoint']['Address']\n",
    "    \n",
    "#FILL IN THE IAM ROLE ARN you got in step 2.2 of the previous exercise\n",
    "#e.g DWH_ROLE_ARN=\"arn:aws:iam::988332130976:role/dwhRole\"\n",
    "\n",
    "DWH_ROLE_ARN = myClusterProps['IamRoles'][0]['IamRoleArn']\n",
    "print(\"DWH_ENDPOINT :: \", DWH_ENDPOINT)\n",
    "print(\"DWH_ROLE_ARN :: \", DWH_ROLE_ARN)"
   ]
  },
  {
   "cell_type": "markdown",
   "metadata": {},
   "source": [
    "## Describe Cluster"
   ]
  },
  {
   "cell_type": "code",
   "execution_count": null,
   "metadata": {},
   "outputs": [],
   "source": [
    "myClusterProps = redshift.describe_clusters(ClusterIdentifier=DWH_CLUSTER_IDENTIFIER)['Clusters'][0]\n",
    "prettyRedshiftProps(myClusterProps)"
   ]
  },
  {
   "cell_type": "markdown",
   "metadata": {},
   "source": [
    "## Pause Cluster"
   ]
  },
  {
   "cell_type": "code",
   "execution_count": null,
   "metadata": {},
   "outputs": [],
   "source": [
    "####   Pause cluster\n",
    "response = redshift.pause_cluster( ClusterIdentifier=DWH_CLUSTER_IDENTIFIER)\n",
    "prettyRedshiftProps(response)"
   ]
  },
  {
   "cell_type": "markdown",
   "metadata": {},
   "source": [
    "## Resume Cluster"
   ]
  },
  {
   "cell_type": "code",
   "execution_count": null,
   "metadata": {},
   "outputs": [],
   "source": [
    "response = redshift.resume_cluster( ClusterIdentifier=DWH_CLUSTER_IDENTIFIER)\n",
    "prettyRedshiftProps(response)"
   ]
  },
  {
   "cell_type": "markdown",
   "metadata": {},
   "source": [
    "## Delete Cluster"
   ]
  },
  {
   "cell_type": "code",
   "execution_count": null,
   "metadata": {},
   "outputs": [],
   "source": [
    "#-- Uncomment & run to delete the created resources\n",
    "response = redshift.delete_cluster( ClusterIdentifier=DWH_CLUSTER_IDENTIFIER,  SkipFinalClusterSnapshot=True)\n",
    "prettyRedshiftProps(response)\n",
    "#### CAREFUL!!"
   ]
  }
 ],
 "metadata": {
  "interpreter": {
   "hash": "f867f9b6968cdaa8945c2bec81facbb53a5ecfce3d662b164ddfb68813176bd2"
  },
  "kernelspec": {
   "display_name": "Python 3.10.4 (conda)",
   "language": "python",
   "name": "python3"
  },
  "language_info": {
   "codemirror_mode": {
    "name": "ipython",
    "version": 3
   },
   "file_extension": ".py",
   "mimetype": "text/x-python",
   "name": "python",
   "nbconvert_exporter": "python",
   "pygments_lexer": "ipython3",
   "version": "3.10.4"
  },
  "orig_nbformat": 4
 },
 "nbformat": 4,
 "nbformat_minor": 2
}
